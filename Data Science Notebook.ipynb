{
    "cells": [
        {
            "cell_type": "markdown",
            "metadata": {
                "collapsed": true,
                "id": "10812faf-f08b-4608-b500-d63ca3719e72",
                "jupyter": {
                    "outputs_hidden": true
                }
            },
            "source": "# My Jupyter Notebook on IBM Watson Studio"
        },
        {
            "cell_type": "markdown",
            "metadata": {
                "id": "e1ffff26-1690-451f-9c61-b47bab402b19"
            },
            "source": "Maria Robbins, PMP MBA\nSalesforce Administrator and Tableau Desktop Specialist"
        },
        {
            "cell_type": "markdown",
            "metadata": {
                "id": "19928a93-9e42-4009-bb36-53883c336b74"
            },
            "source": "I am interested in data science because I want to know how decisions are influenced and what information can be found in everyday behavior. It would be nice to know how past behavior can influence and possibly predict future behavior."
        },
        {
            "cell_type": "markdown",
            "metadata": {
                "id": "0d832904-21ab-4bab-8e2a-4706f92a229d"
            },
            "source": "### The following cell is an example of arithmetic code:"
        },
        {
            "cell_type": "code",
            "execution_count": 2,
            "metadata": {
                "id": "639d7d7e-0176-417b-90c0-95830600e497"
            },
            "outputs": [
                {
                    "data": {
                        "text/plain": "2"
                    },
                    "execution_count": 2,
                    "metadata": {},
                    "output_type": "execute_result"
                }
            ],
            "source": "1+1"
        },
        {
            "cell_type": "markdown",
            "metadata": {
                "id": "a8199deb-76de-4228-b575-7396ca0b0ba5"
            },
            "source": "I'm most looking forward to learning how to use IBM Watson Studio to:\n1. using free resource tools to manage and tell stories using data\n2. Creating visualization to communicate the story\n3. Be able to share my progress to gain understanding from people in the biz\n\nIn addition I'm looking forward to being able to code in:\n- Python\n- R\n- SQL\n\nI will be connecting my Python Notebook in Github **[here](https://github.com/readysetm/IBM-Watson).**\n"
        },
        {
            "cell_type": "code",
            "execution_count": null,
            "metadata": {
                "id": "e3accecf-92a0-4801-af1e-378aac191a2c"
            },
            "outputs": [],
            "source": ""
        }
    ],
    "metadata": {
        "kernelspec": {
            "display_name": "Python 3.11",
            "language": "python",
            "name": "python3"
        },
        "language_info": {
            "codemirror_mode": {
                "name": "ipython",
                "version": 3
            },
            "file_extension": ".py",
            "mimetype": "text/x-python",
            "name": "python",
            "nbconvert_exporter": "python",
            "pygments_lexer": "ipython3",
            "version": "3.11.9"
        }
    },
    "nbformat": 4,
    "nbformat_minor": 4
}